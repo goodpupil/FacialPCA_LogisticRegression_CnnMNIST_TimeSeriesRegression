{
 "cells": [
  {
   "cell_type": "code",
   "execution_count": 1,
   "metadata": {},
   "outputs": [
    {
     "data": {
      "text/html": [
       "<style>.container { width:80% !important; }</style>"
      ],
      "text/plain": [
       "<IPython.core.display.HTML object>"
      ]
     },
     "metadata": {},
     "output_type": "display_data"
    }
   ],
   "source": [
    "from IPython.core.display import display, HTML\n",
    "display(HTML(\"<style>.container { width:80% !important; }</style>\"))"
   ]
  },
  {
   "cell_type": "markdown",
   "metadata": {},
   "source": [
    "## Importing libraries"
   ]
  },
  {
   "cell_type": "code",
   "execution_count": 2,
   "metadata": {},
   "outputs": [],
   "source": [
    "import cv2\n",
    "import numpy as np\n",
    "import matplotlib.pyplot as plt\n",
    "import matplotlib.image as mpimg\n",
    "import os\n",
    "from sklearn.model_selection import train_test_split\n",
    "import math\n",
    "from sklearn.preprocessing import MinMaxScaler\n",
    "from sklearn.metrics import classification_report\n",
    "from sklearn.linear_model import LogisticRegression\n",
    "from scipy.special import expit\n",
    "import pandas as pd"
   ]
  },
  {
   "cell_type": "markdown",
   "metadata": {},
   "source": [
    "### Function for converting rgb images to grayscale"
   ]
  },
  {
   "cell_type": "code",
   "execution_count": 3,
   "metadata": {},
   "outputs": [],
   "source": [
    "def rgb2gray(rgb):\n",
    "    return np.dot(rgb[...,:3], [0.2989, 0.5870, 0.1140])"
   ]
  },
  {
   "cell_type": "markdown",
   "metadata": {},
   "source": [
    "### Loading images and building flattened image dataset"
   ]
  },
  {
   "cell_type": "markdown",
   "metadata": {},
   "source": [
    "Images have been downscaled to 80x80 resolution "
   ]
  },
  {
   "cell_type": "code",
   "execution_count": 4,
   "metadata": {},
   "outputs": [],
   "source": [
    "images = []\n",
    "labels = []\n",
    "files_list=[]\n",
    "for _, _, files_list in os.walk(\"./dataset\"):\n",
    "    pass\n",
    "for file in files_list:\n",
    "    label, rest = file.split('_')\n",
    "    gray = mpimg.imread(\"./dataset/\"+file)\n",
    "    gray = rgb2gray(gray)\n",
    "    gray = cv2.resize(gray, (80,80), interpolation = cv2.INTER_AREA)\n",
    "    images.append(gray.flatten())\n",
    "    labels.append(label)\n",
    "images = np.array(images)\n",
    "images = np.hstack((np.ones((images.shape[0], 1)), images))\n",
    "labels = np.array(labels)"
   ]
  },
  {
   "cell_type": "markdown",
   "metadata": {},
   "source": [
    "### Train-validation split (80-20)"
   ]
  },
  {
   "cell_type": "code",
   "execution_count": 5,
   "metadata": {},
   "outputs": [],
   "source": [
    "x_train, x_valid, y_train, y_valid = train_test_split(images, labels, train_size=.8)"
   ]
  },
  {
   "cell_type": "markdown",
   "metadata": {},
   "source": [
    "### Normalizing feature values using minmax scalar"
   ]
  },
  {
   "cell_type": "code",
   "execution_count": 6,
   "metadata": {},
   "outputs": [],
   "source": [
    "scaler = MinMaxScaler()\n",
    "x_train = scaler.fit_transform(x_train)\n",
    "x_valid = scaler.transform(x_valid)"
   ]
  },
  {
   "cell_type": "markdown",
   "metadata": {},
   "source": [
    "### Sigmoid function"
   ]
  },
  {
   "cell_type": "code",
   "execution_count": 7,
   "metadata": {},
   "outputs": [],
   "source": [
    "sigmoid = lambda x : (1 / (1 + np.exp(-x)))"
   ]
  },
  {
   "cell_type": "markdown",
   "metadata": {},
   "source": [
    "### Logistic regression training (one vs all) (Images without PCA)"
   ]
  },
  {
   "cell_type": "code",
   "execution_count": 32,
   "metadata": {
    "scrolled": false
   },
   "outputs": [
    {
     "name": "stdout",
     "output_type": "stream",
     "text": [
      "Training classifier for class  000\n",
      "Iterations =  10001  Cost =  0.039972783862149794\n",
      "Training classifier for class  001\n",
      "Iterations =  10001  Cost =  0.04258302413878414\n",
      "Training classifier for class  002\n",
      "Iterations =  10001  Cost =  0.026233038892598537\n",
      "Training classifier for class  003\n",
      "Iterations =  10001  Cost =  0.021071587010701956\n",
      "Training classifier for class  004\n",
      "Iterations =  10001  Cost =  0.030138330607002384\n",
      "Training classifier for class  005\n",
      "Iterations =  10001  Cost =  0.028845489506244437\n",
      "Training classifier for class  006\n",
      "Iterations =  10001  Cost =  0.05582650420112665\n",
      "Training classifier for class  007\n",
      "Iterations =  10001  Cost =  0.026607480207931695\n"
     ]
    }
   ],
   "source": [
    "weights = np.ones((x_train.shape[1], 1))\n",
    "mod_y_train = pd.get_dummies(y_train)\n",
    "tol = 0.000001\n",
    "alpha = 0.008\n",
    "epsilon = 1e-7\n",
    "m = x_train.shape[0]\n",
    "for cind in range(len(set(y_train))):\n",
    "    maj_class = mod_y_train.columns[cind]\n",
    "    print(\"Training classifier for class \",maj_class)\n",
    "    thetas = (np.random.rand(x_train.shape[1], 1) - .5)\n",
    "    ly_train = np.array(mod_y_train.iloc[:,cind]).reshape((-1,1))\n",
    "    error = 10*tol\n",
    "    pcost = 0\n",
    "    iters=0\n",
    "    while error >= tol and iters <= 10000:\n",
    "        hypo = np.dot(x_train, thetas)\n",
    "        hsig = (sigmoid(hypo))\n",
    "        y1cost = np.dot(ly_train.transpose(), np.log(hsig + epsilon))\n",
    "        y0cost = np.dot((1 - ly_train).transpose(), np.log(1 - hsig + epsilon))\n",
    "        cost = (-1/m)*( y1cost + y0cost )\n",
    "\n",
    "        error = abs(pcost - cost)\n",
    "        pcost = cost\n",
    "        thetas -= (alpha/m)*np.dot(x_train.transpose(), (hsig - ly_train))\n",
    "        iters += 1\n",
    "    cost = cost[0][0]\n",
    "    print(\"Iterations = \",iters,\" Cost = \",cost)\n",
    "    weights = np.hstack((weights, thetas))\n",
    "weights = weights[:,1:] "
   ]
  },
  {
   "cell_type": "markdown",
   "metadata": {},
   "source": [
    "### Validation dataset's classsifcation report"
   ]
  },
  {
   "cell_type": "code",
   "execution_count": 35,
   "metadata": {},
   "outputs": [
    {
     "name": "stdout",
     "output_type": "stream",
     "text": [
      "              precision    recall  f1-score   support\n",
      "\n",
      "         000       0.75      0.75      0.75        12\n",
      "         001       0.78      0.47      0.58        15\n",
      "         002       0.69      0.79      0.73        14\n",
      "         003       0.75      0.71      0.73        17\n",
      "         004       0.44      0.78      0.56         9\n",
      "         005       0.73      0.53      0.62        15\n",
      "         006       0.62      0.62      0.62        13\n",
      "         007       0.73      0.89      0.80         9\n",
      "\n",
      "    accuracy                           0.67       104\n",
      "   macro avg       0.68      0.69      0.67       104\n",
      "weighted avg       0.70      0.67      0.67       104\n",
      "\n"
     ]
    }
   ],
   "source": [
    "y_pred = []\n",
    "res = sigmoid(np.dot(x_valid, weights))\n",
    "# print(res)\n",
    "for row in range(res.shape[0]):\n",
    "    ind = np.argmax(res[row,:])\n",
    "    y_pred.append(mod_y_train.columns[ind])\n",
    "print(classification_report(y_valid, y_pred))"
   ]
  },
  {
   "cell_type": "markdown",
   "metadata": {},
   "source": [
    "## Comparison with Sklearn's logistic regressor"
   ]
  },
  {
   "cell_type": "code",
   "execution_count": 36,
   "metadata": {},
   "outputs": [
    {
     "name": "stdout",
     "output_type": "stream",
     "text": [
      "              precision    recall  f1-score   support\n",
      "\n",
      "         000       0.62      0.83      0.71        12\n",
      "         001       0.86      0.40      0.55        15\n",
      "         002       0.59      0.71      0.65        14\n",
      "         003       0.83      0.88      0.86        17\n",
      "         004       0.50      0.78      0.61         9\n",
      "         005       0.90      0.60      0.72        15\n",
      "         006       0.60      0.46      0.52        13\n",
      "         007       0.75      1.00      0.86         9\n",
      "\n",
      "    accuracy                           0.69       104\n",
      "   macro avg       0.71      0.71      0.68       104\n",
      "weighted avg       0.72      0.69      0.68       104\n",
      "\n"
     ]
    }
   ],
   "source": [
    "clf = LogisticRegression(random_state=0,  max_iter=10000).fit(x_train, y_train)\n",
    "y_pred = clf.predict(x_valid)\n",
    "print(classification_report(y_valid, y_pred))"
   ]
  },
  {
   "cell_type": "markdown",
   "metadata": {},
   "source": [
    "# Logistic regression with PCA"
   ]
  },
  {
   "cell_type": "markdown",
   "metadata": {},
   "source": [
    "## Calculating covariance marix"
   ]
  },
  {
   "cell_type": "markdown",
   "metadata": {},
   "source": [
    "#### Function to calculate covariance matrix"
   ]
  },
  {
   "cell_type": "code",
   "execution_count": 11,
   "metadata": {},
   "outputs": [],
   "source": [
    "def calc_cov_mat(ip_mat):\n",
    "    mean_mat = np.sum(ip_mat, axis=0)/ip_mat.shape[0]\n",
    "    mat_b = ip_mat - mean_mat\n",
    "    return np.dot(mat_b.transpose(), mat_b)/(ip_mat.shape[0] - 1)"
   ]
  },
  {
   "cell_type": "code",
   "execution_count": 12,
   "metadata": {},
   "outputs": [
    {
     "data": {
      "text/plain": [
       "(6401, 6401)"
      ]
     },
     "execution_count": 12,
     "metadata": {},
     "output_type": "execute_result"
    }
   ],
   "source": [
    "cov_mat = calc_cov_mat(x_train)\n",
    "cov_mat.shape"
   ]
  },
  {
   "cell_type": "markdown",
   "metadata": {},
   "source": [
    "#### Applying eigendecomposition to covariance matrix"
   ]
  },
  {
   "cell_type": "code",
   "execution_count": 13,
   "metadata": {},
   "outputs": [],
   "source": [
    "evals, evecs = np.linalg.eig(cov_mat)"
   ]
  },
  {
   "cell_type": "markdown",
   "metadata": {},
   "source": [
    "#### Sorting in descending order of eigenvalues"
   ]
  },
  {
   "cell_type": "code",
   "execution_count": 14,
   "metadata": {},
   "outputs": [],
   "source": [
    "idx = evals.argsort()[::-1]   \n",
    "eigenValues = evals[idx]\n",
    "eigenVectors = evecs[:,idx]"
   ]
  },
  {
   "cell_type": "code",
   "execution_count": 15,
   "metadata": {},
   "outputs": [
    {
     "name": "stdout",
     "output_type": "stream",
     "text": [
      "[ 5.98814585e+01+0.00000000e+00j  4.39872596e+01+0.00000000e+00j\n",
      "  2.62559375e+01+0.00000000e+00j ... -1.27882978e-15+0.00000000e+00j\n",
      " -1.48922216e-15+1.63824644e-16j -1.48922216e-15-1.63824644e-16j]\n",
      "[[ 0.        +0.j          0.        +0.j          0.        +0.j\n",
      "  ...  0.        +0.j          0.        +0.j\n",
      "   0.        -0.j        ]\n",
      " [-0.00624637+0.j          0.01099566+0.j         -0.0140834 +0.j\n",
      "  ...  0.01529667+0.j         -0.01637492+0.00997025j\n",
      "  -0.01637492-0.00997025j]\n",
      " [-0.00646395+0.j          0.0113859 +0.j         -0.01217362+0.j\n",
      "  ...  0.00572676+0.j         -0.00754652-0.01834948j\n",
      "  -0.00754652+0.01834948j]\n",
      " ...\n",
      " [-0.0026727 +0.j         -0.01446198+0.j         -0.0305677 +0.j\n",
      "  ...  0.01297333+0.j         -0.01847452+0.03301794j\n",
      "  -0.01847452-0.03301794j]\n",
      " [-0.00196671+0.j         -0.01365385+0.j         -0.03148079+0.j\n",
      "  ... -0.02586671+0.j          0.00366498-0.00194799j\n",
      "   0.00366498+0.00194799j]\n",
      " [-0.0018722 +0.j         -0.01323929+0.j         -0.03229916+0.j\n",
      "  ...  0.00434379+0.j         -0.00770245-0.00684551j\n",
      "  -0.00770245+0.00684551j]]\n"
     ]
    }
   ],
   "source": [
    "print(eigenValues)\n",
    "print(eigenVectors)"
   ]
  },
  {
   "cell_type": "markdown",
   "metadata": {},
   "source": [
    "### Deciding no. of components to keep corresponding to 90% variance retention"
   ]
  },
  {
   "cell_type": "code",
   "execution_count": 37,
   "metadata": {},
   "outputs": [
    {
     "name": "stdout",
     "output_type": "stream",
     "text": [
      "90.0 % variance achieved at  69  components\n"
     ]
    }
   ],
   "source": [
    "target_var = .9\n",
    "tot_var = np.sum(eigenValues)\n",
    "perc = []\n",
    "csum=0\n",
    "comps = 0\n",
    "tcomps=0\n",
    "for ind in range(250):\n",
    "    csum += eigenValues[ind]\n",
    "    comps += 1\n",
    "    perc.append(csum/tot_var)\n",
    "    if np.real(csum/tot_var) >= target_var:\n",
    "        print(target_var*100,\"% variance achieved at \",comps,\" components\")\n",
    "        tcomps=comps\n",
    "        break"
   ]
  },
  {
   "cell_type": "markdown",
   "metadata": {},
   "source": [
    "#### Obtaining the PCA transformation (projection) and reconstruction matrix"
   ]
  },
  {
   "cell_type": "code",
   "execution_count": 17,
   "metadata": {},
   "outputs": [],
   "source": [
    "trans_mat = np.real(eigenVectors[:,0:tcomps])\n",
    "recon_mat = np.dot(trans_mat, trans_mat.transpose())"
   ]
  },
  {
   "cell_type": "markdown",
   "metadata": {},
   "source": [
    "### Dimensionality reduction of all images"
   ]
  },
  {
   "cell_type": "code",
   "execution_count": 38,
   "metadata": {},
   "outputs": [],
   "source": [
    "x_train_pca = np.dot(x_train, trans_mat)\n",
    "x_valid_pca = np.dot(x_valid, trans_mat)"
   ]
  },
  {
   "cell_type": "markdown",
   "metadata": {},
   "source": [
    "### Normalizing feature values using minmax scalar"
   ]
  },
  {
   "cell_type": "code",
   "execution_count": 39,
   "metadata": {},
   "outputs": [],
   "source": [
    "scaler = MinMaxScaler()\n",
    "x_train_pca = scaler.fit_transform(x_train_pca)\n",
    "x_valid_pca = scaler.transform(x_valid_pca)"
   ]
  },
  {
   "cell_type": "markdown",
   "metadata": {},
   "source": [
    "#### Classifier training"
   ]
  },
  {
   "cell_type": "code",
   "execution_count": 40,
   "metadata": {
    "scrolled": false
   },
   "outputs": [
    {
     "name": "stdout",
     "output_type": "stream",
     "text": [
      "Training classifier for class  000\n",
      "Iterations =  10001  Cost =  0.20296230413992\n",
      "Training classifier for class  001\n",
      "Iterations =  10001  Cost =  0.21092571882036149\n",
      "Training classifier for class  002\n",
      "Iterations =  10001  Cost =  0.16561587605998987\n",
      "Training classifier for class  003\n",
      "Iterations =  10001  Cost =  0.13454870469317848\n",
      "Training classifier for class  004\n",
      "Iterations =  10001  Cost =  0.16348693273381043\n",
      "Training classifier for class  005\n",
      "Iterations =  10001  Cost =  0.17154771972992633\n",
      "Training classifier for class  006\n",
      "Iterations =  10001  Cost =  0.2132857668529178\n",
      "Training classifier for class  007\n",
      "Iterations =  10001  Cost =  0.14801623124255484\n"
     ]
    }
   ],
   "source": [
    "weights = np.ones((x_train_pca.shape[1], 1))\n",
    "mod_y_train = pd.get_dummies(y_train)\n",
    "tol = 0.000001\n",
    "alpha = 0.05\n",
    "epsilon = 1e-7\n",
    "m = x_train_pca.shape[0]\n",
    "for cind in range(len(set(y_train))):\n",
    "    maj_class = mod_y_train.columns[cind]\n",
    "    print(\"Training classifier for class \",maj_class)\n",
    "    thetas = (np.random.rand(x_train_pca.shape[1], 1) - .5)\n",
    "    ly_train = np.array(mod_y_train.iloc[:,cind]).reshape((-1,1))\n",
    "    error = 10*tol\n",
    "    pcost = 0\n",
    "    iters=0\n",
    "    while error >= tol and iters <= 10000:\n",
    "        hypo = np.dot(x_train_pca, thetas)\n",
    "        hsig = (sigmoid(hypo))\n",
    "        y1cost = np.dot(ly_train.transpose(), np.log(hsig + epsilon))\n",
    "        y0cost = np.dot((1 - ly_train).transpose(), np.log(1 - hsig + epsilon))\n",
    "        cost = (-1/m)*( y1cost + y0cost )\n",
    "\n",
    "        error = abs(pcost - cost)\n",
    "        pcost = cost\n",
    "        thetas -= (alpha/m)*np.dot(x_train_pca.transpose(), (hsig - ly_train))\n",
    "        iters += 1\n",
    "    cost = cost[0][0]\n",
    "    print(\"Iterations = \",iters,\" Cost = \",cost)\n",
    "    weights = np.hstack((weights, thetas))\n",
    "weights = weights[:,1:] "
   ]
  },
  {
   "cell_type": "markdown",
   "metadata": {},
   "source": [
    "### Validation dataset's classsifcation report"
   ]
  },
  {
   "cell_type": "code",
   "execution_count": 41,
   "metadata": {},
   "outputs": [
    {
     "name": "stdout",
     "output_type": "stream",
     "text": [
      "              precision    recall  f1-score   support\n",
      "\n",
      "         000       0.67      0.83      0.74        12\n",
      "         001       0.80      0.53      0.64        15\n",
      "         002       0.50      0.50      0.50        14\n",
      "         003       0.92      0.71      0.80        17\n",
      "         004       0.40      0.67      0.50         9\n",
      "         005       0.83      0.67      0.74        15\n",
      "         006       0.45      0.38      0.42        13\n",
      "         007       0.64      1.00      0.78         9\n",
      "\n",
      "    accuracy                           0.64       104\n",
      "   macro avg       0.65      0.66      0.64       104\n",
      "weighted avg       0.68      0.64      0.65       104\n",
      "\n"
     ]
    }
   ],
   "source": [
    "y_pred = []\n",
    "res = sigmoid(np.dot(x_valid_pca, weights))\n",
    "# print(res)\n",
    "for row in range(res.shape[0]):\n",
    "    ind = np.argmax(res[row,:])\n",
    "    y_pred.append(mod_y_train.columns[ind])\n",
    "print(classification_report(y_valid, y_pred))"
   ]
  },
  {
   "cell_type": "markdown",
   "metadata": {},
   "source": [
    "## Comparison with Sklearn's logistic regressor"
   ]
  },
  {
   "cell_type": "code",
   "execution_count": 42,
   "metadata": {},
   "outputs": [
    {
     "name": "stdout",
     "output_type": "stream",
     "text": [
      "              precision    recall  f1-score   support\n",
      "\n",
      "         000       0.59      0.83      0.69        12\n",
      "         001       0.67      0.40      0.50        15\n",
      "         002       0.57      0.57      0.57        14\n",
      "         003       0.93      0.82      0.87        17\n",
      "         004       0.33      0.56      0.42         9\n",
      "         005       0.90      0.60      0.72        15\n",
      "         006       0.50      0.46      0.48        13\n",
      "         007       0.67      0.89      0.76         9\n",
      "\n",
      "    accuracy                           0.63       104\n",
      "   macro avg       0.64      0.64      0.63       104\n",
      "weighted avg       0.67      0.63      0.64       104\n",
      "\n"
     ]
    }
   ],
   "source": [
    "clf = LogisticRegression( max_iter=10000).fit(x_train_pca, y_train)\n",
    "y_pred = clf.predict(x_valid_pca)\n",
    "print(classification_report(y_valid, y_pred))"
   ]
  }
 ],
 "metadata": {
  "kernelspec": {
   "display_name": "Python 3",
   "language": "python",
   "name": "python3"
  },
  "language_info": {
   "codemirror_mode": {
    "name": "ipython",
    "version": 3
   },
   "file_extension": ".py",
   "mimetype": "text/x-python",
   "name": "python",
   "nbconvert_exporter": "python",
   "pygments_lexer": "ipython3",
   "version": "3.6.9"
  }
 },
 "nbformat": 4,
 "nbformat_minor": 2
}
